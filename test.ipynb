{
 "cells": [
  {
   "cell_type": "code",
   "execution_count": 1,
   "id": "1bb7d389",
   "metadata": {},
   "outputs": [
    {
     "name": "stdout",
     "output_type": "stream",
     "text": [
      "The car specification window: 4 doors: 5 is self driving True\n",
      "None\n"
     ]
    }
   ],
   "source": [
    "class Car:\n",
    "    def __init__(self, windows, doors, enginetype):\n",
    "        self.windows = windows\n",
    "        self.doors = doors\n",
    "        self.enginetype= enginetype\n",
    "\n",
    "    def drive(self):\n",
    "        print(f\"the car is driving {self.windows}\")\n",
    "\n",
    "class Tesla(Car):\n",
    "    def __init__(self,windows, doors, enginetype, is_self_driving ):\n",
    "        super().__init__(windows, doors, enginetype)\n",
    "        self.is_self_driving = is_self_driving\n",
    "    \n",
    "    def tesla_driving(self):\n",
    "        print(f\"The car specification window: {self.windows} doors: {self.doors} is self driving {self.is_self_driving}\")\n",
    "\n",
    "instanceOfCar = Tesla(4,5,\"split\", True)\n",
    "\n",
    "print(instanceOfCar.tesla_driving())\n"
   ]
  }
 ],
 "metadata": {
  "kernelspec": {
   "display_name": "Python 3",
   "language": "python",
   "name": "python3"
  },
  "language_info": {
   "codemirror_mode": {
    "name": "ipython",
    "version": 3
   },
   "file_extension": ".py",
   "mimetype": "text/x-python",
   "name": "python",
   "nbconvert_exporter": "python",
   "pygments_lexer": "ipython3",
   "version": "3.12.0"
  }
 },
 "nbformat": 4,
 "nbformat_minor": 5
}
